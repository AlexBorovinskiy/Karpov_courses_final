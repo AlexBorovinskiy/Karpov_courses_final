{
 "cells": [
  {
   "cell_type": "code",
   "execution_count": 1,
   "metadata": {},
   "outputs": [],
   "source": [
    "import pandas as pd\n",
    "\n",
    "import numpy as np \n",
    "\n",
    "from itertools import combinations"
   ]
  },
  {
   "cell_type": "code",
   "execution_count": 2,
   "metadata": {},
   "outputs": [
    {
     "data": {
      "text/html": [
       "<div>\n",
       "<style scoped>\n",
       "    .dataframe tbody tr th:only-of-type {\n",
       "        vertical-align: middle;\n",
       "    }\n",
       "\n",
       "    .dataframe tbody tr th {\n",
       "        vertical-align: top;\n",
       "    }\n",
       "\n",
       "    .dataframe thead th {\n",
       "        text-align: right;\n",
       "    }\n",
       "</style>\n",
       "<table border=\"1\" class=\"dataframe\">\n",
       "  <thead>\n",
       "    <tr style=\"text-align: right;\">\n",
       "      <th></th>\n",
       "      <th>1_Товар</th>\n",
       "      <th>2_Товар</th>\n",
       "      <th>Встречаемость</th>\n",
       "    </tr>\n",
       "  </thead>\n",
       "  <tbody>\n",
       "    <tr>\n",
       "      <th>1</th>\n",
       "      <td>Укроп</td>\n",
       "      <td>Огурцы Луховицкие</td>\n",
       "      <td>431</td>\n",
       "    </tr>\n",
       "    <tr>\n",
       "      <th>2</th>\n",
       "      <td>Укроп</td>\n",
       "      <td>Петрушка</td>\n",
       "      <td>408</td>\n",
       "    </tr>\n",
       "    <tr>\n",
       "      <th>3</th>\n",
       "      <td>Огурцы Луховицкие</td>\n",
       "      <td>Арбуз</td>\n",
       "      <td>345</td>\n",
       "    </tr>\n",
       "    <tr>\n",
       "      <th>4</th>\n",
       "      <td>Огурцы Луховицкие</td>\n",
       "      <td>Кабачки</td>\n",
       "      <td>326</td>\n",
       "    </tr>\n",
       "    <tr>\n",
       "      <th>5</th>\n",
       "      <td>Укроп</td>\n",
       "      <td>Кинза</td>\n",
       "      <td>303</td>\n",
       "    </tr>\n",
       "  </tbody>\n",
       "</table>\n",
       "</div>"
      ],
      "text/plain": [
       "             1_Товар            2_Товар  Встречаемость\n",
       "1              Укроп  Огурцы Луховицкие            431\n",
       "2              Укроп           Петрушка            408\n",
       "3  Огурцы Луховицкие              Арбуз            345\n",
       "4  Огурцы Луховицкие            Кабачки            326\n",
       "5              Укроп              Кинза            303"
      ]
     },
     "execution_count": 2,
     "metadata": {},
     "output_type": "execute_result"
    }
   ],
   "source": [
    "products = pd.read_csv('https://stepik.org/media/attachments/lesson/409319/test1_completed.csv')\n",
    "\n",
    "products = products.rename(columns={\"Товар\": \"product\", \"Количество\": \"quantity\"})\n",
    "\n",
    "list_products = products['product'].to_list() # создаём список со всеми покупками\n",
    "\n",
    "set_products = set(list_products) # создём tuple, чтобы избавиться от повторений\n",
    "\n",
    "cleared_list_products = list(set_products) # возвращаем формат списка \n",
    "\n",
    "list_combinations = list(combinations(cleared_list_products, 2)) # находим все возможные комбинации\n",
    "\n",
    "agg_products = products.groupby('id')['product'].agg(list).to_frame().reset_index() \n",
    "# создаем аггрегированную таблицу, где покупки идут списками\n",
    "\n",
    "list_checks = list(agg_products['product']) # создаём список списков со всеми чеками\n",
    "\n",
    "list_lists_combinations = []\n",
    "for comb in list_combinations:\n",
    "    list_lists_combinations.append(list(comb))\n",
    "# возвращаем формат списка списков\n",
    "\n",
    "for comb in list_lists_combinations:\n",
    "    comb.append(0)\n",
    "# к каждой комбинации добавляем счётчик\n",
    "\n",
    "for check in list_checks:  \n",
    "    for comb in list_lists_combinations:\n",
    "        if comb[0] in check and comb[1] in check:\n",
    "            comb[2] += 1\n",
    "\n",
    "\n",
    "first_five = sorted(list_lists_combinations, key=lambda i: i[2], reverse=True)[0:5] # сортируем по убыванию и выбираем первые 5\n",
    "\n",
    "answer_1 = pd.DataFrame(first_five, columns = ['1_Товар','2_Товар','Встречаемость'], index=[1,2,3,4,5]) \n",
    "# переводим в табличный формат и делаем индекс более business friendly\n",
    "\n",
    "answer_1"
   ]
  },
  {
   "cell_type": "code",
   "execution_count": null,
   "metadata": {},
   "outputs": [],
   "source": []
  }
 ],
 "metadata": {
  "kernelspec": {
   "display_name": "Python 3",
   "language": "python",
   "name": "python3"
  },
  "language_info": {
   "codemirror_mode": {
    "name": "ipython",
    "version": 3
   },
   "file_extension": ".py",
   "mimetype": "text/x-python",
   "name": "python",
   "nbconvert_exporter": "python",
   "pygments_lexer": "ipython3",
   "version": "3.8.5"
  }
 },
 "nbformat": 4,
 "nbformat_minor": 4
}
